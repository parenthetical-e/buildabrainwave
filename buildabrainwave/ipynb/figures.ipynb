{
 "cells": [
  {
   "cell_type": "code",
   "execution_count": 4,
   "metadata": {
    "collapsed": false
   },
   "outputs": [
    {
     "data": {
      "text/html": [
       "\n",
       "    <div class=\"bk-root\">\n",
       "        <a href=\"https://bokeh.pydata.org\" target=\"_blank\" class=\"bk-logo bk-logo-small bk-logo-notebook\"></a>\n",
       "        <span id=\"d45eb924-10c9-4133-b198-b0ebc7d4ce67\">Loading BokehJS ...</span>\n",
       "    </div>"
      ]
     },
     "metadata": {},
     "output_type": "display_data"
    },
    {
     "data": {
      "application/javascript": [
       "\n",
       "(function(root) {\n",
       "  function now() {\n",
       "    return new Date();\n",
       "  }\n",
       "\n",
       "  var force = true;\n",
       "\n",
       "  if (typeof (root._bokeh_onload_callbacks) === \"undefined\" || force === true) {\n",
       "    root._bokeh_onload_callbacks = [];\n",
       "    root._bokeh_is_loading = undefined;\n",
       "  }\n",
       "\n",
       "\n",
       "  \n",
       "  if (typeof (root._bokeh_timeout) === \"undefined\" || force === true) {\n",
       "    root._bokeh_timeout = Date.now() + 5000;\n",
       "    root._bokeh_failed_load = false;\n",
       "  }\n",
       "\n",
       "  var NB_LOAD_WARNING = {'data': {'text/html':\n",
       "     \"<div style='background-color: #fdd'>\\n\"+\n",
       "     \"<p>\\n\"+\n",
       "     \"BokehJS does not appear to have successfully loaded. If loading BokehJS from CDN, this \\n\"+\n",
       "     \"may be due to a slow or bad network connection. Possible fixes:\\n\"+\n",
       "     \"</p>\\n\"+\n",
       "     \"<ul>\\n\"+\n",
       "     \"<li>re-rerun `output_notebook()` to attempt to load from CDN again, or</li>\\n\"+\n",
       "     \"<li>use INLINE resources instead, as so:</li>\\n\"+\n",
       "     \"</ul>\\n\"+\n",
       "     \"<code>\\n\"+\n",
       "     \"from bokeh.resources import INLINE\\n\"+\n",
       "     \"output_notebook(resources=INLINE)\\n\"+\n",
       "     \"</code>\\n\"+\n",
       "     \"</div>\"}};\n",
       "\n",
       "  function display_loaded() {\n",
       "    if (root.Bokeh !== undefined) {\n",
       "      var el = document.getElementById(\"d45eb924-10c9-4133-b198-b0ebc7d4ce67\");\n",
       "      if (el != null) {\n",
       "        el.textContent = \"BokehJS \" + Bokeh.version + \" successfully loaded.\";\n",
       "      }\n",
       "    } else if (Date.now() < root._bokeh_timeout) {\n",
       "      setTimeout(display_loaded, 100)\n",
       "    }\n",
       "  }\n",
       "\n",
       "\n",
       "  function run_callbacks() {\n",
       "    try {\n",
       "      root._bokeh_onload_callbacks.forEach(function(callback) { callback() });\n",
       "    }\n",
       "    finally {\n",
       "      delete root._bokeh_onload_callbacks\n",
       "    }\n",
       "    console.info(\"Bokeh: all callbacks have finished\");\n",
       "  }\n",
       "\n",
       "  function load_libs(js_urls, callback) {\n",
       "    root._bokeh_onload_callbacks.push(callback);\n",
       "    if (root._bokeh_is_loading > 0) {\n",
       "      console.log(\"Bokeh: BokehJS is being loaded, scheduling callback at\", now());\n",
       "      return null;\n",
       "    }\n",
       "    if (js_urls == null || js_urls.length === 0) {\n",
       "      run_callbacks();\n",
       "      return null;\n",
       "    }\n",
       "    console.log(\"Bokeh: BokehJS not loaded, scheduling load and callback at\", now());\n",
       "    root._bokeh_is_loading = js_urls.length;\n",
       "    for (var i = 0; i < js_urls.length; i++) {\n",
       "      var url = js_urls[i];\n",
       "      var s = document.createElement('script');\n",
       "      s.src = url;\n",
       "      s.async = false;\n",
       "      s.onreadystatechange = s.onload = function() {\n",
       "        root._bokeh_is_loading--;\n",
       "        if (root._bokeh_is_loading === 0) {\n",
       "          console.log(\"Bokeh: all BokehJS libraries loaded\");\n",
       "          run_callbacks()\n",
       "        }\n",
       "      };\n",
       "      s.onerror = function() {\n",
       "        console.warn(\"failed to load library \" + url);\n",
       "      };\n",
       "      console.log(\"Bokeh: injecting script tag for BokehJS library: \", url);\n",
       "      document.getElementsByTagName(\"head\")[0].appendChild(s);\n",
       "    }\n",
       "  };var element = document.getElementById(\"d45eb924-10c9-4133-b198-b0ebc7d4ce67\");\n",
       "  if (element == null) {\n",
       "    console.log(\"Bokeh: ERROR: autoload.js configured with elementid 'd45eb924-10c9-4133-b198-b0ebc7d4ce67' but no matching script tag was found. \")\n",
       "    return false;\n",
       "  }\n",
       "\n",
       "  var js_urls = [\"https://cdn.pydata.org/bokeh/release/bokeh-0.12.7.min.js\", \"https://cdn.pydata.org/bokeh/release/bokeh-widgets-0.12.7.min.js\", \"https://cdn.pydata.org/bokeh/release/bokeh-tables-0.12.7.min.js\", \"https://cdn.pydata.org/bokeh/release/bokeh-gl-0.12.7.min.js\"];\n",
       "\n",
       "  var inline_js = [\n",
       "    function(Bokeh) {\n",
       "      Bokeh.set_log_level(\"info\");\n",
       "    },\n",
       "    \n",
       "    function(Bokeh) {\n",
       "      \n",
       "    },\n",
       "    \n",
       "    function(Bokeh) {\n",
       "      \n",
       "      document.getElementById(\"d45eb924-10c9-4133-b198-b0ebc7d4ce67\").textContent = \"BokehJS is loading...\";\n",
       "\n",
       "    },\n",
       "    function(Bokeh) {\n",
       "      console.log(\"Bokeh: injecting CSS: https://cdn.pydata.org/bokeh/release/bokeh-0.12.7.min.css\");\n",
       "      Bokeh.embed.inject_css(\"https://cdn.pydata.org/bokeh/release/bokeh-0.12.7.min.css\");\n",
       "      console.log(\"Bokeh: injecting CSS: https://cdn.pydata.org/bokeh/release/bokeh-widgets-0.12.7.min.css\");\n",
       "      Bokeh.embed.inject_css(\"https://cdn.pydata.org/bokeh/release/bokeh-widgets-0.12.7.min.css\");\n",
       "      console.log(\"Bokeh: injecting CSS: https://cdn.pydata.org/bokeh/release/bokeh-tables-0.12.7.min.css\");\n",
       "      Bokeh.embed.inject_css(\"https://cdn.pydata.org/bokeh/release/bokeh-tables-0.12.7.min.css\");\n",
       "    }\n",
       "  ];\n",
       "\n",
       "  function run_inline_js() {\n",
       "    \n",
       "    if ((root.Bokeh !== undefined) || (force === true)) {\n",
       "      for (var i = 0; i < inline_js.length; i++) {\n",
       "        inline_js[i].call(root, root.Bokeh);\n",
       "      }if (force === true) {\n",
       "        display_loaded();\n",
       "      }} else if (Date.now() < root._bokeh_timeout) {\n",
       "      setTimeout(run_inline_js, 100);\n",
       "    } else if (!root._bokeh_failed_load) {\n",
       "      console.log(\"Bokeh: BokehJS failed to load within specified timeout.\");\n",
       "      root._bokeh_failed_load = true;\n",
       "    } else if (force !== true) {\n",
       "      var cell = $(document.getElementById(\"d45eb924-10c9-4133-b198-b0ebc7d4ce67\")).parents('.cell').data().cell;\n",
       "      cell.output_area.append_execute_result(NB_LOAD_WARNING)\n",
       "    }\n",
       "\n",
       "  }\n",
       "\n",
       "  if (root._bokeh_is_loading === 0) {\n",
       "    console.log(\"Bokeh: BokehJS loaded, going straight to plotting\");\n",
       "    run_inline_js();\n",
       "  } else {\n",
       "    load_libs(js_urls, function() {\n",
       "      console.log(\"Bokeh: BokehJS plotting callback run at\", now());\n",
       "      run_inline_js();\n",
       "    });\n",
       "  }\n",
       "}(window));"
      ]
     },
     "metadata": {},
     "output_type": "display_data"
    }
   ],
   "source": [
    "from bokeh.plotting import figure\n",
    "from bokeh.io import show, output_notebook\n",
    "from bokeh.layouts import column, row\n",
    "from bokeh.models import Range1d\n",
    "output_notebook()\n",
    "\n",
    "import numpy as np\n",
    "\n",
    "from buildabrainwave import run"
   ]
  },
  {
   "cell_type": "code",
   "execution_count": 5,
   "metadata": {
    "collapsed": false
   },
   "outputs": [],
   "source": [
    "# J_ee=2.1,\n",
    "# J_ie=1.9,\n",
    "# J_ei=1.5,\n",
    "# J_ii=1.1,\n",
    "# tau_e=40e-3,\n",
    "# tau_i=20e-3,\n",
    "# tau_n=2e-4,\n",
    "# I_e=120,\n",
    "# I_i=85,\n",
    "# sigma=1,\n",
    "\n",
    "def plot_timecourse(times, ts, y_lim=(6, 24)):\n",
    "    times = times * 1e3\n",
    "    p = figure(plot_width=300, plot_height=150)\n",
    "    p.line(x=times, y=rs[:, 0], color=\"red\", alpha=0.4)\n",
    "    p.line(x=times, y=rs[:, 1], color=\"blue\", alpha=0.4)\n",
    "    p.circle(x=times[0], y=rs[0, 0], color=\"red\")\n",
    "    p.circle(x=times[0], y=rs[0, 1], color=\"blue\")\n",
    "    p.xgrid.grid_line_color = None\n",
    "    p.ygrid.grid_line_color = None\n",
    "    p.xaxis.axis_label = 'Time (ms)'\n",
    "    p.yaxis.axis_label = 'Firing rate'\n",
    "    p.y_range = Range1d(*y_lim)\n",
    "\n",
    "#     p.axis.visible = False\n",
    "    show(p)\n",
    "    \n",
    "def plot_plane(times, rs):\n",
    "    p = figure(plot_width=300, plot_height=150, toolbar_location=None)\n",
    "    p.line(rs[:, 0], y=rs[:, 1], color=\"grey\", alpha=0.4)\n",
    "    p.xgrid.grid_line_color = None\n",
    "    p.ygrid.grid_line_color = None\n",
    "    p.axis.visible = False\n",
    "    show(p)"
   ]
  },
  {
   "cell_type": "markdown",
   "metadata": {},
   "source": [
    "# Alone"
   ]
  },
  {
   "cell_type": "code",
   "execution_count": 6,
   "metadata": {
    "collapsed": false
   },
   "outputs": [
    {
     "data": {
      "text/html": [
       "\n",
       "\n",
       "    <div class=\"bk-root\">\n",
       "        <div class=\"bk-plotdiv\" id=\"956a9f83-0687-4637-b872-c8e1ad752efa\"></div>\n",
       "    </div>\n",
       "<script type=\"text/javascript\">\n",
       "  \n",
       "  (function(root) {\n",
       "    function now() {\n",
       "      return new Date();\n",
       "    }\n",
       "\n",
       "    var force = false;\n",
       "\n",
       "    if (typeof (root._bokeh_onload_callbacks) === \"undefined\" || force === true) {\n",
       "      root._bokeh_onload_callbacks = [];\n",
       "      root._bokeh_is_loading = undefined;\n",
       "    }\n",
       "\n",
       "\n",
       "    \n",
       "    if (typeof (root._bokeh_timeout) === \"undefined\" || force === true) {\n",
       "      root._bokeh_timeout = Date.now() + 0;\n",
       "      root._bokeh_failed_load = false;\n",
       "    }\n",
       "\n",
       "    var NB_LOAD_WARNING = {'data': {'text/html':\n",
       "       \"<div style='background-color: #fdd'>\\n\"+\n",
       "       \"<p>\\n\"+\n",
       "       \"BokehJS does not appear to have successfully loaded. If loading BokehJS from CDN, this \\n\"+\n",
       "       \"may be due to a slow or bad network connection. Possible fixes:\\n\"+\n",
       "       \"</p>\\n\"+\n",
       "       \"<ul>\\n\"+\n",
       "       \"<li>re-rerun `output_notebook()` to attempt to load from CDN again, or</li>\\n\"+\n",
       "       \"<li>use INLINE resources instead, as so:</li>\\n\"+\n",
       "       \"</ul>\\n\"+\n",
       "       \"<code>\\n\"+\n",
       "       \"from bokeh.resources import INLINE\\n\"+\n",
       "       \"output_notebook(resources=INLINE)\\n\"+\n",
       "       \"</code>\\n\"+\n",
       "       \"</div>\"}};\n",
       "\n",
       "    function display_loaded() {\n",
       "      if (root.Bokeh !== undefined) {\n",
       "        var el = document.getElementById(\"956a9f83-0687-4637-b872-c8e1ad752efa\");\n",
       "        if (el != null) {\n",
       "          el.textContent = \"BokehJS \" + Bokeh.version + \" successfully loaded.\";\n",
       "        }\n",
       "      } else if (Date.now() < root._bokeh_timeout) {\n",
       "        setTimeout(display_loaded, 100)\n",
       "      }\n",
       "    }\n",
       "\n",
       "\n",
       "    function run_callbacks() {\n",
       "      try {\n",
       "        root._bokeh_onload_callbacks.forEach(function(callback) { callback() });\n",
       "      }\n",
       "      finally {\n",
       "        delete root._bokeh_onload_callbacks\n",
       "      }\n",
       "      console.info(\"Bokeh: all callbacks have finished\");\n",
       "    }\n",
       "\n",
       "    function load_libs(js_urls, callback) {\n",
       "      root._bokeh_onload_callbacks.push(callback);\n",
       "      if (root._bokeh_is_loading > 0) {\n",
       "        console.log(\"Bokeh: BokehJS is being loaded, scheduling callback at\", now());\n",
       "        return null;\n",
       "      }\n",
       "      if (js_urls == null || js_urls.length === 0) {\n",
       "        run_callbacks();\n",
       "        return null;\n",
       "      }\n",
       "      console.log(\"Bokeh: BokehJS not loaded, scheduling load and callback at\", now());\n",
       "      root._bokeh_is_loading = js_urls.length;\n",
       "      for (var i = 0; i < js_urls.length; i++) {\n",
       "        var url = js_urls[i];\n",
       "        var s = document.createElement('script');\n",
       "        s.src = url;\n",
       "        s.async = false;\n",
       "        s.onreadystatechange = s.onload = function() {\n",
       "          root._bokeh_is_loading--;\n",
       "          if (root._bokeh_is_loading === 0) {\n",
       "            console.log(\"Bokeh: all BokehJS libraries loaded\");\n",
       "            run_callbacks()\n",
       "          }\n",
       "        };\n",
       "        s.onerror = function() {\n",
       "          console.warn(\"failed to load library \" + url);\n",
       "        };\n",
       "        console.log(\"Bokeh: injecting script tag for BokehJS library: \", url);\n",
       "        document.getElementsByTagName(\"head\")[0].appendChild(s);\n",
       "      }\n",
       "    };var element = document.getElementById(\"956a9f83-0687-4637-b872-c8e1ad752efa\");\n",
       "    if (element == null) {\n",
       "      console.log(\"Bokeh: ERROR: autoload.js configured with elementid '956a9f83-0687-4637-b872-c8e1ad752efa' but no matching script tag was found. \")\n",
       "      return false;\n",
       "    }\n",
       "\n",
       "    var js_urls = [];\n",
       "\n",
       "    var inline_js = [\n",
       "      function(Bokeh) {\n",
       "        (function() {\n",
       "          var fn = function() {\n",
       "            var docs_json = {\"88c032b4-84de-479a-aeaa-8984ef9e9655\":{\"roots\":{\"references\":[{\"attributes\":{\"source\":{\"id\":\"778179d4-5d42-4cc3-94d7-cce19693d709\",\"type\":\"ColumnDataSource\"}},\"id\":\"ede9300a-5be5-4fd4-b871-55538b54fbe3\",\"type\":\"CDSView\"},{\"attributes\":{\"data_source\":{\"id\":\"79f8001c-676b-4546-b61a-3b7fd95d7606\",\"type\":\"ColumnDataSource\"},\"glyph\":{\"id\":\"36810928-4b1a-48b8-85d2-adeb0eed9b99\",\"type\":\"Circle\"},\"hover_glyph\":null,\"muted_glyph\":null,\"nonselection_glyph\":{\"id\":\"381aca65-bdfc-424f-b540-54b2226bca54\",\"type\":\"Circle\"},\"selection_glyph\":null,\"view\":{\"id\":\"8d095f2d-1569-4995-974e-1e70a3d2b9f0\",\"type\":\"CDSView\"}},\"id\":\"a6394791-4e13-43d0-be89-83dc22b1d146\",\"type\":\"GlyphRenderer\"},{\"attributes\":{\"callback\":null,\"end\":24,\"start\":6},\"id\":\"d7ebe707-3083-4ecb-a23e-5493646581bd\",\"type\":\"Range1d\"},{\"attributes\":{},\"id\":\"be14398e-586b-428d-b201-59204023cdec\",\"type\":\"BasicTicker\"},{\"attributes\":{},\"id\":\"312c6742-0653-4d67-874e-4fba02f37f52\",\"type\":\"BasicTickFormatter\"},{\"attributes\":{\"grid_line_color\":{\"value\":null},\"plot\":{\"id\":\"169460d4-f896-49b4-a474-1fe965d9eed5\",\"subtype\":\"Figure\",\"type\":\"Plot\"},\"ticker\":{\"id\":\"2daabdfa-ab37-4d0d-9302-4e465847ba78\",\"type\":\"BasicTicker\"}},\"id\":\"46a72207-f482-40da-abd5-62d3f59c1f56\",\"type\":\"Grid\"},{\"attributes\":{\"line_alpha\":{\"value\":0.4},\"line_color\":{\"value\":\"red\"},\"x\":{\"field\":\"x\"},\"y\":{\"field\":\"y\"}},\"id\":\"ce03157c-e4f6-44e6-b013-23885d723ef4\",\"type\":\"Line\"},{\"attributes\":{\"source\":{\"id\":\"d99aef78-1a0e-491f-8758-4a6ac7a59341\",\"type\":\"ColumnDataSource\"}},\"id\":\"e949fc7f-508e-4aa5-8b44-6b4e9d215b15\",\"type\":\"CDSView\"},{\"attributes\":{\"dimension\":1,\"grid_line_color\":{\"value\":null},\"plot\":{\"id\":\"169460d4-f896-49b4-a474-1fe965d9eed5\",\"subtype\":\"Figure\",\"type\":\"Plot\"},\"ticker\":{\"id\":\"be14398e-586b-428d-b201-59204023cdec\",\"type\":\"BasicTicker\"}},\"id\":\"8ee2b416-d287-4fad-b6ba-3bbdc77d213c\",\"type\":\"Grid\"},{\"attributes\":{},\"id\":\"4eea7a5f-c58c-4221-a515-a6300b821b21\",\"type\":\"ResetTool\"},{\"attributes\":{\"line_alpha\":{\"value\":0.1},\"line_color\":{\"value\":\"#1f77b4\"},\"x\":{\"field\":\"x\"},\"y\":{\"field\":\"y\"}},\"id\":\"e229c97f-93da-445c-836c-f2ddcbe21600\",\"type\":\"Line\"},{\"attributes\":{\"axis_label\":\"Firing rate\",\"formatter\":{\"id\":\"ed2c9774-0436-4d31-91b7-c9caa383a622\",\"type\":\"BasicTickFormatter\"},\"plot\":{\"id\":\"169460d4-f896-49b4-a474-1fe965d9eed5\",\"subtype\":\"Figure\",\"type\":\"Plot\"},\"ticker\":{\"id\":\"be14398e-586b-428d-b201-59204023cdec\",\"type\":\"BasicTicker\"}},\"id\":\"9ab48859-8f99-44fb-877a-97a815b569d8\",\"type\":\"LinearAxis\"},{\"attributes\":{\"fill_alpha\":{\"value\":0.1},\"fill_color\":{\"value\":\"#1f77b4\"},\"line_alpha\":{\"value\":0.1},\"line_color\":{\"value\":\"#1f77b4\"},\"x\":{\"value\":0.0},\"y\":{\"value\":8.0}},\"id\":\"381aca65-bdfc-424f-b540-54b2226bca54\",\"type\":\"Circle\"},{\"attributes\":{\"callback\":null,\"data\":{}},\"id\":\"79f8001c-676b-4546-b61a-3b7fd95d7606\",\"type\":\"ColumnDataSource\"},{\"attributes\":{\"data_source\":{\"id\":\"d99aef78-1a0e-491f-8758-4a6ac7a59341\",\"type\":\"ColumnDataSource\"},\"glyph\":{\"id\":\"627810aa-c3ed-4a9a-85fe-9d2fde5322b4\",\"type\":\"Line\"},\"hover_glyph\":null,\"muted_glyph\":null,\"nonselection_glyph\":{\"id\":\"e98327e9-60f9-4c33-825e-16a65b13eba6\",\"type\":\"Line\"},\"selection_glyph\":null,\"view\":{\"id\":\"e949fc7f-508e-4aa5-8b44-6b4e9d215b15\",\"type\":\"CDSView\"}},\"id\":\"dd02977e-1c58-4e99-a97d-850175f25dc7\",\"type\":\"GlyphRenderer\"},{\"attributes\":{\"active_drag\":\"auto\",\"active_inspect\":\"auto\",\"active_scroll\":\"auto\",\"active_tap\":\"auto\",\"tools\":[{\"id\":\"91a6acdb-a86b-4661-ab0c-83aef47b42f7\",\"type\":\"PanTool\"},{\"id\":\"42907328-cfc7-45c5-89bc-2c60aaf8d886\",\"type\":\"WheelZoomTool\"},{\"id\":\"53b59d6a-932f-4f9d-8f97-4595e2bdbd7d\",\"type\":\"BoxZoomTool\"},{\"id\":\"40b9eca8-030c-487b-a315-443aa948fcb7\",\"type\":\"SaveTool\"},{\"id\":\"4eea7a5f-c58c-4221-a515-a6300b821b21\",\"type\":\"ResetTool\"},{\"id\":\"32cacd7e-4bc5-4eca-bd79-78bc8eea5196\",\"type\":\"HelpTool\"}]},\"id\":\"e574f1d0-33d9-4703-b3c2-5741290f327d\",\"type\":\"Toolbar\"},{\"attributes\":{},\"id\":\"ed2c9774-0436-4d31-91b7-c9caa383a622\",\"type\":\"BasicTickFormatter\"},{\"attributes\":{\"fill_color\":{\"value\":\"red\"},\"line_color\":{\"value\":\"red\"},\"x\":{\"value\":0.0},\"y\":{\"value\":8.0}},\"id\":\"36810928-4b1a-48b8-85d2-adeb0eed9b99\",\"type\":\"Circle\"},{\"attributes\":{\"plot\":null,\"text\":\"\"},\"id\":\"fec94f8d-477c-4a7d-9419-51f2128e92ef\",\"type\":\"Title\"},{\"attributes\":{},\"id\":\"42907328-cfc7-45c5-89bc-2c60aaf8d886\",\"type\":\"WheelZoomTool\"},{\"attributes\":{\"data_source\":{\"id\":\"b014a511-8454-4263-ad2a-99c6e114b277\",\"type\":\"ColumnDataSource\"},\"glyph\":{\"id\":\"ce03157c-e4f6-44e6-b013-23885d723ef4\",\"type\":\"Line\"},\"hover_glyph\":null,\"muted_glyph\":null,\"nonselection_glyph\":{\"id\":\"e229c97f-93da-445c-836c-f2ddcbe21600\",\"type\":\"Line\"},\"selection_glyph\":null,\"view\":{\"id\":\"53ef0571-6530-407e-9863-0ffb11cada46\",\"type\":\"CDSView\"}},\"id\":\"760d4f3f-eb3f-4d87-82bc-57fe4298343e\",\"type\":\"GlyphRenderer\"},{\"attributes\":{\"below\":[{\"id\":\"37457b41-cded-44c4-be51-f25a07f9aa08\",\"type\":\"LinearAxis\"}],\"left\":[{\"id\":\"9ab48859-8f99-44fb-877a-97a815b569d8\",\"type\":\"LinearAxis\"}],\"plot_height\":150,\"plot_width\":300,\"renderers\":[{\"id\":\"37457b41-cded-44c4-be51-f25a07f9aa08\",\"type\":\"LinearAxis\"},{\"id\":\"46a72207-f482-40da-abd5-62d3f59c1f56\",\"type\":\"Grid\"},{\"id\":\"9ab48859-8f99-44fb-877a-97a815b569d8\",\"type\":\"LinearAxis\"},{\"id\":\"8ee2b416-d287-4fad-b6ba-3bbdc77d213c\",\"type\":\"Grid\"},{\"id\":\"26073af2-958f-4fcf-855e-b5698000a6f9\",\"type\":\"BoxAnnotation\"},{\"id\":\"760d4f3f-eb3f-4d87-82bc-57fe4298343e\",\"type\":\"GlyphRenderer\"},{\"id\":\"dd02977e-1c58-4e99-a97d-850175f25dc7\",\"type\":\"GlyphRenderer\"},{\"id\":\"a6394791-4e13-43d0-be89-83dc22b1d146\",\"type\":\"GlyphRenderer\"},{\"id\":\"e821eaa8-eebd-4df8-9920-1d5f039a49b8\",\"type\":\"GlyphRenderer\"}],\"title\":{\"id\":\"fec94f8d-477c-4a7d-9419-51f2128e92ef\",\"type\":\"Title\"},\"toolbar\":{\"id\":\"e574f1d0-33d9-4703-b3c2-5741290f327d\",\"type\":\"Toolbar\"},\"x_range\":{\"id\":\"6a2543c0-5a33-4b67-acf2-00b83db8e5d4\",\"type\":\"DataRange1d\"},\"x_scale\":{\"id\":\"f3ff3bd4-761c-400b-b417-0d45e8468a00\",\"type\":\"LinearScale\"},\"y_range\":{\"id\":\"d7ebe707-3083-4ecb-a23e-5493646581bd\",\"type\":\"Range1d\"},\"y_scale\":{\"id\":\"9b773b0e-a945-47e3-a0c6-f88a3a941948\",\"type\":\"LinearScale\"}},\"id\":\"169460d4-f896-49b4-a474-1fe965d9eed5\",\"subtype\":\"Figure\",\"type\":\"Plot\"},{\"attributes\":{\"overlay\":{\"id\":\"26073af2-958f-4fcf-855e-b5698000a6f9\",\"type\":\"BoxAnnotation\"}},\"id\":\"53b59d6a-932f-4f9d-8f97-4595e2bdbd7d\",\"type\":\"BoxZoomTool\"},{\"attributes\":{},\"id\":\"32cacd7e-4bc5-4eca-bd79-78bc8eea5196\",\"type\":\"HelpTool\"},{\"attributes\":{\"callback\":null,\"column_names\":[\"y\",\"x\"],\"data\":{\"x\":{\"__ndarray__\":\"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\",\"dtype\":\"float64\",\"shape\":[500]},\"y\":{\"__ndarray__\":\"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\",\"dtype\":\"float64\",\"shape\":[500]}}},\"id\":\"d99aef78-1a0e-491f-8758-4a6ac7a59341\",\"type\":\"ColumnDataSource\"},{\"attributes\":{},\"id\":\"40b9eca8-030c-487b-a315-443aa948fcb7\",\"type\":\"SaveTool\"},{\"attributes\":{\"source\":{\"id\":\"b014a511-8454-4263-ad2a-99c6e114b277\",\"type\":\"ColumnDataSource\"}},\"id\":\"53ef0571-6530-407e-9863-0ffb11cada46\",\"type\":\"CDSView\"},{\"attributes\":{\"line_alpha\":{\"value\":0.4},\"line_color\":{\"value\":\"blue\"},\"x\":{\"field\":\"x\"},\"y\":{\"field\":\"y\"}},\"id\":\"627810aa-c3ed-4a9a-85fe-9d2fde5322b4\",\"type\":\"Line\"},{\"attributes\":{\"source\":{\"id\":\"79f8001c-676b-4546-b61a-3b7fd95d7606\",\"type\":\"ColumnDataSource\"}},\"id\":\"8d095f2d-1569-4995-974e-1e70a3d2b9f0\",\"type\":\"CDSView\"},{\"attributes\":{\"line_alpha\":{\"value\":0.1},\"line_color\":{\"value\":\"#1f77b4\"},\"x\":{\"field\":\"x\"},\"y\":{\"field\":\"y\"}},\"id\":\"e98327e9-60f9-4c33-825e-16a65b13eba6\",\"type\":\"Line\"},{\"attributes\":{\"callback\":null},\"id\":\"6a2543c0-5a33-4b67-acf2-00b83db8e5d4\",\"type\":\"DataRange1d\"},{\"attributes\":{},\"id\":\"9b773b0e-a945-47e3-a0c6-f88a3a941948\",\"type\":\"LinearScale\"},{\"attributes\":{},\"id\":\"91a6acdb-a86b-4661-ab0c-83aef47b42f7\",\"type\":\"PanTool\"},{\"attributes\":{\"bottom_units\":\"screen\",\"fill_alpha\":{\"value\":0.5},\"fill_color\":{\"value\":\"lightgrey\"},\"left_units\":\"screen\",\"level\":\"overlay\",\"line_alpha\":{\"value\":1.0},\"line_color\":{\"value\":\"black\"},\"line_dash\":[4,4],\"line_width\":{\"value\":2},\"plot\":null,\"render_mode\":\"css\",\"right_units\":\"screen\",\"top_units\":\"screen\"},\"id\":\"26073af2-958f-4fcf-855e-b5698000a6f9\",\"type\":\"BoxAnnotation\"},{\"attributes\":{},\"id\":\"f3ff3bd4-761c-400b-b417-0d45e8468a00\",\"type\":\"LinearScale\"},{\"attributes\":{\"axis_label\":\"Time (ms)\",\"formatter\":{\"id\":\"312c6742-0653-4d67-874e-4fba02f37f52\",\"type\":\"BasicTickFormatter\"},\"plot\":{\"id\":\"169460d4-f896-49b4-a474-1fe965d9eed5\",\"subtype\":\"Figure\",\"type\":\"Plot\"},\"ticker\":{\"id\":\"2daabdfa-ab37-4d0d-9302-4e465847ba78\",\"type\":\"BasicTicker\"}},\"id\":\"37457b41-cded-44c4-be51-f25a07f9aa08\",\"type\":\"LinearAxis\"},{\"attributes\":{\"fill_alpha\":{\"value\":0.1},\"fill_color\":{\"value\":\"#1f77b4\"},\"line_alpha\":{\"value\":0.1},\"line_color\":{\"value\":\"#1f77b4\"},\"x\":{\"value\":0.0},\"y\":{\"value\":12.0}},\"id\":\"0b24a129-3852-49c8-a36a-37401ec1de55\",\"type\":\"Circle\"},{\"attributes\":{\"fill_color\":{\"value\":\"blue\"},\"line_color\":{\"value\":\"blue\"},\"x\":{\"value\":0.0},\"y\":{\"value\":12.0}},\"id\":\"700404fd-ab19-47a8-8597-d151ffd42f7b\",\"type\":\"Circle\"},{\"attributes\":{\"data_source\":{\"id\":\"778179d4-5d42-4cc3-94d7-cce19693d709\",\"type\":\"ColumnDataSource\"},\"glyph\":{\"id\":\"700404fd-ab19-47a8-8597-d151ffd42f7b\",\"type\":\"Circle\"},\"hover_glyph\":null,\"muted_glyph\":null,\"nonselection_glyph\":{\"id\":\"0b24a129-3852-49c8-a36a-37401ec1de55\",\"type\":\"Circle\"},\"selection_glyph\":null,\"view\":{\"id\":\"ede9300a-5be5-4fd4-b871-55538b54fbe3\",\"type\":\"CDSView\"}},\"id\":\"e821eaa8-eebd-4df8-9920-1d5f039a49b8\",\"type\":\"GlyphRenderer\"},{\"attributes\":{\"callback\":null,\"data\":{}},\"id\":\"778179d4-5d42-4cc3-94d7-cce19693d709\",\"type\":\"ColumnDataSource\"},{\"attributes\":{},\"id\":\"2daabdfa-ab37-4d0d-9302-4e465847ba78\",\"type\":\"BasicTicker\"},{\"attributes\":{\"callback\":null,\"column_names\":[\"y\",\"x\"],\"data\":{\"x\":{\"__ndarray__\":\"AAAAAAAAAACpLX3Eu6a5P6ktfcS7psk/PuJd0ww90z+pLX3Eu6bZP4k8zlo1COA/PuJd0ww94z/0h+1L5HHmP6ktfcS7puk/XtMMPZPb7D+JPM5aNQjwP2QPFhehovE/PuJd0ww98z8ZtaWPeNf0P/SH7UvkcfY/zlo1CFAM+D+pLX3Eu6b5P4MAxYAnQfs/XtMMPZPb/D85plT5/nX+P4k8zlo1CABA9iXyOGvVAEBkDxYXoaIBQNH4OfXWbwJAPuJd0ww9A0Csy4GxQgoEQBm1pY941wRAhp7Jba6kBUD0h+1L5HEGQGFxESoaPwdAzlo1CFAMCEA7RFnmhdkIQKktfcS7pglAFhehovFzCkCDAMWAJ0ELQPHp6F5dDgxAXtMMPZPbDEDLvDAbyagNQDmmVPn+dQ5Apo941zRDD0CJPM5aNQgQQEAx4EnQbhBA9iXyOGvVEECuGgQoBjwRQGQPFhehohFAGwQoBjwJEkDR+Dn11m8SQIjtS+Rx1hJAPuJd0ww9E0D11m/Cp6MTQKzLgbFCChRAY8CToN1wFEAZtaWPeNcUQNCpt34TPhVAhp7Jba6kFUA9k9tcSQsWQPSH7UvkcRZAq3z/On/YFkBhcREqGj8XQBhmIxm1pRdAzlo1CFAMGECFT0f36nIYQDtEWeaF2RhA8zhr1SBAGUCpLX3Eu6YZQF8ij7NWDRpAFhehovFzGkDMC7ORjNoaQIMAxYAnQRtAOvXWb8KnG0Dx6eheXQ4cQKfe+k34dBxAXtMMPZPbHEAUyB4sLkIdQMu8MBvJqB1AgbFCCmQPHkA5plT5/nUeQO+aZuiZ3B5Apo941zRDH0BdhIrGz6kfQIk8zlo1CCBA5TZX0oI7IEBAMeBJ0G4gQJwracEdoiBA9iXyOGvVIEBSIHuwuAghQK4aBCgGPCFACRWNn1NvIUBkDxYXoaIhQL8Jn47u1SFAGwQoBjwJIkB2/rB9iTwiQNH4OfXWbyJALfPCbCSjIkCI7UvkcdYiQOTn1Fu/CSNAPuJd0ww9I0Ca3OZKWnAjQPXWb8KnoyNAUNH4OfXWI0Csy4GxQgokQAfGCimQPSRAY8CToN1wJEC9uhwYK6QkQBm1pY941yRAda8uB8YKJUDQqbd+Ez4lQCukQPZgcSVAhp7Jba6kJUDimFLl+9clQD2T21xJCyZAmI1k1JY+JkD0h+1L5HEmQE+CdsMxpSZAq3z/On/YJkAFd4iyzAsnQGFxESoaPydAvGuaoWdyJ0AYZiMZtaUnQHNgrJAC2SdAzlo1CFAMKEAqVb5/nT8oQIVPR/fqcihA4EnQbjimKEA7RFnmhdkoQJc+4l3TDClA8zhr1SBAKUBNM/RMbnMpQKktfcS7pilABCgGPAnaKUBfIo+zVg0qQLscGCukQCpAFhehovFzKkByESoaP6cqQMwLs5GM2ipAKAY8CdoNK0CDAMWAJ0ErQN/6Tfh0dCtAOvXWb8KnK0CV71/nD9srQPHp6F5dDixATORx1qpBLECn3vpN+HQsQALZg8VFqCxAXtMMPZPbLEC6zZW04A4tQBTIHiwuQi1AcMKno3t1LUDLvDAbyagtQCe3uZIW3C1AgbFCCmQPLkDdq8uBsUIuQDmmVPn+dS5AlKDdcEypLkDvmmbomdwuQEqV71/nDy9Apo941zRDL0AAigFPgnYvQF2EisbPqS9AuH4TPh3dL0CJPM5aNQgwQLe5khbcITBA5TZX0oI7MEAStBuOKVUwQEAx4EnQbjBAbq6kBXeIMECcK2nBHaIwQMmoLX3EuzBA9iXyOGvVMEAlo7b0Ee8wQFIge7C4CDFAf50/bF8iMUCuGgQoBjwxQNuXyOOsVTFACRWNn1NvMUA2klFb+ogxQGQPFhehojFAkoza0ke8MUC/CZ+O7tUxQO2GY0qV7zFAGwQoBjwJMkBIgezB4iIyQHb+sH2JPDJApHt1OTBWMkDR+Dn11m8yQP91/rB9iTJALfPCbCSjMkBacIcoy7wyQIjtS+Rx1jJAtWoQoBjwMkDk59RbvwkzQBFlmRdmIzNAPuJd0ww9M0BtXyKPs1YzQJrc5kpacDNAx1mrBgGKM0D11m/Cp6MzQCNUNH5OvTNAUNH4OfXWM0B+Tr31m/AzQKzLgbFCCjRA2khGbekjNEAHxgopkD00QDVDz+Q2VzRAY8CToN1wNECQPVhchIo0QL26HBgrpDRA7Dfh09G9NEAZtaWPeNc0QEcyaksf8TRAda8uB8YKNUCiLPPCbCQ1QNCpt34TPjVA/SZ8OrpXNUArpED2YHE1QFkhBbIHizVAhp7Jba6kNUC1G44pVb41QOKYUuX71zVADxYXoaLxNUA9k9tcSQs2QGsQoBjwJDZAmI1k1JY+NkDGCimQPVg2QPSH7UvkcTZAIQWyB4uLNkBPgnbDMaU2QHz/On/YvjZAq3z/On/YNkDY+cP2JfI2QAV3iLLMCzdANPRMbnMlN0BhcREqGj83QI7u1eXAWDdAvGuaoWdyN0Dq6F5dDow3QBhmIxm1pTdARePn1Fu/N0BzYKyQAtk3QKHdcEyp8jdAzlo1CFAMOED71/nD9iU4QCpVvn+dPzhAV9KCO0RZOECFT0f36nI4QLPMC7ORjDhA4EnQbjimOEAOx5Qq3784QDtEWeaF2ThAacEdoizzOECXPuJd0ww5QMS7phl6JjlA8zhr1SBAOUAgti+Rx1k5QE0z9ExuczlAe7C4CBWNOUCpLX3Eu6Y5QNaqQYBiwDlABCgGPAnaOUAypcr3r/M5QF8ij7NWDTpAjZ9Tb/0mOkC7HBgrpEA6QOmZ3OZKWjpAFhehovFzOkBDlGVemI06QHIRKho/pzpAn47u1eXAOkDMC7ORjNo6QPuId00z9DpAKAY8CdoNO0BWgwDFgCc7QIMAxYAnQTtAsX2JPM5aO0Df+k34dHQ7QAx4ErQbjjtAOvXWb8KnO0BocpsracE7QJXvX+cP2ztAw2wko7b0O0Dx6eheXQ48QB5nrRoEKDxATORx1qpBPEB6YTaSUVs8QKfe+k34dDxA1Vu/CZ+OPEAC2YPFRag8QDFWSIHswTxAXtMMPZPbPECLUNH4OfU8QLrNlbTgDj1A50pacIcoPUAUyB4sLkI9QEJF4+fUWz1AcMKno3t1PUCdP2xfIo89QMu8MBvJqD1A+Tn11m/CPUAnt7mSFtw9QFQ0fk699T1AgbFCCmQPPkCwLgfGCik+QN2ry4GxQj5ACimQPVhcPkA5plT5/nU+QGYjGbWljz5AlKDdcEypPkDBHaIs88I+QO+aZuiZ3D5AHRgrpED2PkBKle9f5w8/QHgStBuOKT9Apo941zRDP0DTDD2T21w/QACKAU+Cdj9ALgfGCimQP0BdhIrGz6k/QIoBT4J2wz9AuH4TPh3dP0Dl+9f5w/Y/QIk8zlo1CEBAIXuwuAgVQEC3uZIW3CFAQE74dHSvLkBA5TZX0oI7QEB7dTkwVkhAQBK0G44pVUBAqvL96/xhQEBAMeBJ0G5AQNdvwqeje0BAbq6kBXeIQEAE7YZjSpVAQJwracEdokBAMmpLH/GuQEDJqC19xLtAQGDnD9uXyEBA9iXyOGvVQECOZNSWPuJAQCWjtvQR70BAu+GYUuX7QEBSIHuwuAhBQOleXQ6MFUFAf50/bF8iQUAX3CHKMi9BQK4aBCgGPEFARFnmhdlIQUDbl8jjrFVBQHLWqkGAYkFACRWNn1NvQUCgU2/9JnxBQDaSUVv6iEFAzdAzuc2VQUBkDxYXoaJBQPpN+HR0r0FAkoza0ke8QUApy7wwG8lBQL8Jn47u1UFAVkiB7MHiQUDthmNKle9BQITFRaho/EFAGwQoBjwJQkCyQgpkDxZCQEiB7MHiIkJA37/OH7YvQkB2/rB9iTxCQA09k9tcSUJApHt1OTBWQkA6uleXA2NCQNH4OfXWb0JAaDccU6p8QkD/df6wfYlCQJa04A5RlkJALfPCbCSjQkDDMaXK969CQFpwhyjLvEJA8q5php7JQkCI7UvkcdZCQB8sLkJF40JAtWoQoBjwQkBMqfL96/xCQOTn1Fu/CUNAeia3uZIWQ0ARZZkXZiNDQKije3U5MENAPuJd0ww9Q0DVIEAx4ElDQG1fIo+zVkNAA54E7YZjQ0Ca3OZKWnBDQDEbyagtfUNAx1mrBgGKQ0BfmI1k1JZDQPXWb8Kno0NAjBVSIHuwQ0AjVDR+Tr1DQLmSFtwhykNAUNH4OfXWQ0DoD9uXyONDQH5OvfWb8ENAFY2fU2/9Q0Csy4GxQgpEQEIKZA8WF0RA2khGbekjREBxhyjLvDBEQAfGCimQPURAngTthmNKREA1Q8/kNldEQMyBsUIKZERAY8CToN1wRED5/nX+sH1EQJA9WFyEikRAJ3w6uleXREC9uhwYK6REQFX5/nX+sERA7Dfh09G9RECCdsMxpcpEQBm1pY9410RAsPOH7UvkREBHMmpLH/FEQN5wTKny/URAda8uB8YKRUAL7hBlmRdFQKIs88JsJEVAOGvVIEAxRUDQqbd+Ez5FQGfomdzmSkVA/SZ8OrpXRUCUZV6YjWRFQCukQPZgcUVAwuIiVDR+RUBZIQWyB4tFQPBf5w/bl0VAhp7Jba6kRUAd3avLgbFFQLUbjilVvkVAS1pwhyjLRUDimFLl+9dFQHjXNEPP5EVADxYXoaLxRUCmVPn+df5FQD2T21xJC0ZA1NG9uhwYRkBrEKAY8CRGQAFPgnbDMUZAmI1k1JY+RkAwzEYyaktGQMYKKZA9WEZAXUkL7hBlRkD0h+1L5HFGQIrGz6m3fkZAIQWyB4uLRkC4Q5RlXphGQE+CdsMxpUZA5sBYIQWyRkB8/zp/2L5GQBM+Hd2ry0ZAq3z/On/YRkBBu+GYUuVGQNj5w/Yl8kZAbzimVPn+RkAFd4iyzAtHQJ21ahCgGEdANPRMbnMlR0DKMi/MRjJHQGFxESoaP0dA+K/zh+1LR0CO7tXlwFhHQCYtuEOUZUdAvGuaoWdyR0BTqnz/On9HQOroXl0OjEdAgCdBu+GYR0AYZiMZtaVHQK+kBXeIskdARePn1Fu/R0DcIcoyL8xHQHNgrJAC2UdACp+O7tXlR0Ch3XBMqfJHQDgcU6p8/0dAzlo1CFAMSEBlmRdmIxlIQPvX+cP2JUhAkxbcIcoySEAqVb5/nT9IQMCToN1wTEhAV9KCO0RZSEDuEGWZF2ZIQIVPR/fqckhAHI4pVb5/SECzzAuzkYxIQEkL7hBlmUhA4EnQbjimSEB3iLLMC7NIQA7HlCrfv0hApQV3iLLMSEA7RFnmhdlIQNKCO0RZ5khAacEdoizzSEAAAAAAAABJQA==\",\"dtype\":\"float64\",\"shape\":[500]},\"y\":{\"__ndarray__\":\"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\",\"dtype\":\"float64\",\"shape\":[500]}}},\"id\":\"b014a511-8454-4263-ad2a-99c6e114b277\",\"type\":\"ColumnDataSource\"}],\"root_ids\":[\"169460d4-f896-49b4-a474-1fe965d9eed5\"]},\"title\":\"Bokeh Application\",\"version\":\"0.12.7\"}};\n",
       "            var render_items = [{\"docid\":\"88c032b4-84de-479a-aeaa-8984ef9e9655\",\"elementid\":\"956a9f83-0687-4637-b872-c8e1ad752efa\",\"modelid\":\"169460d4-f896-49b4-a474-1fe965d9eed5\"}];\n",
       "            \n",
       "            Bokeh.embed.embed_items(docs_json, render_items);\n",
       "          };\n",
       "          if (document.readyState != \"loading\") fn();\n",
       "          else document.addEventListener(\"DOMContentLoaded\", fn);\n",
       "        })();\n",
       "\n",
       "      },\n",
       "      function(Bokeh) {\n",
       "      }\n",
       "    ];\n",
       "\n",
       "    function run_inline_js() {\n",
       "      \n",
       "      if ((root.Bokeh !== undefined) || (force === true)) {\n",
       "        for (var i = 0; i < inline_js.length; i++) {\n",
       "          inline_js[i].call(root, root.Bokeh);\n",
       "        }if (force === true) {\n",
       "          display_loaded();\n",
       "        }} else if (Date.now() < root._bokeh_timeout) {\n",
       "        setTimeout(run_inline_js, 100);\n",
       "      } else if (!root._bokeh_failed_load) {\n",
       "        console.log(\"Bokeh: BokehJS failed to load within specified timeout.\");\n",
       "        root._bokeh_failed_load = true;\n",
       "      } else if (force !== true) {\n",
       "        var cell = $(document.getElementById(\"956a9f83-0687-4637-b872-c8e1ad752efa\")).parents('.cell').data().cell;\n",
       "        cell.output_area.append_execute_result(NB_LOAD_WARNING)\n",
       "      }\n",
       "\n",
       "    }\n",
       "\n",
       "    if (root._bokeh_is_loading === 0) {\n",
       "      console.log(\"Bokeh: BokehJS loaded, going straight to plotting\");\n",
       "      run_inline_js();\n",
       "    } else {\n",
       "      load_libs(js_urls, function() {\n",
       "        console.log(\"Bokeh: BokehJS plotting callback run at\", now());\n",
       "        run_inline_js();\n",
       "      });\n",
       "    }\n",
       "  }(window));\n",
       "</script>"
      ]
     },
     "metadata": {},
     "output_type": "display_data"
    }
   ],
   "source": [
    "times, rs = run(.05, J_ee=0, J_ie=0, J_ei=0, J_ii=0, I_e=1, I_i=1, sigma=0)\n",
    "plot_timecourse(times, rs)\n",
    "# plot_plane(times, rs)"
   ]
  },
  {
   "cell_type": "code",
   "execution_count": null,
   "metadata": {
    "collapsed": false
   },
   "outputs": [],
   "source": [
    "times, rs = run(.05, re_0=10, J_ee=0, J_ie=0, J_ei=0, J_ii=0, I_e=80, I_i=120, sigma=0)\n",
    "plot_timecourse(times, rs)\n",
    "# plot_plane(times, rs)"
   ]
  },
  {
   "cell_type": "markdown",
   "metadata": {},
   "source": [
    "# Drive"
   ]
  },
  {
   "cell_type": "code",
   "execution_count": null,
   "metadata": {
    "collapsed": false
   },
   "outputs": [],
   "source": [
    "times, rs = run(.05, J_ee=0, J_ie=0, J_ei=0, J_ii=0, I_e=80, I_i=120, sigma=0)\n",
    "plot_timecourse(times, rs)\n",
    "# plot_plane(times, rs)"
   ]
  },
  {
   "cell_type": "markdown",
   "metadata": {},
   "source": [
    "# EE"
   ]
  },
  {
   "cell_type": "code",
   "execution_count": null,
   "metadata": {
    "collapsed": false
   },
   "outputs": [],
   "source": [
    "times, rs = run(.05, J_ee=1.3, J_ie=0, J_ei=0, J_ii=0, I_e=80, I_i=120, sigma=0)\n",
    "plot_timecourse(times, rs)\n",
    "plot_timecourse(times, rs, y_lim=(6, 500))"
   ]
  },
  {
   "cell_type": "markdown",
   "metadata": {},
   "source": [
    "# EE, IE"
   ]
  },
  {
   "cell_type": "code",
   "execution_count": null,
   "metadata": {
    "collapsed": false
   },
   "outputs": [],
   "source": [
    "times, rs = run(.05, J_ee=1.3, J_ie=0.8, J_ei=0, J_ii=0, I_e=80, I_i=120, sigma=0)\n",
    "# plot_timecourse(times, rs, y_lim=(0, 50))\n",
    "plot_timecourse(times, rs, y_lim=(6, 500))\n",
    "# plot_plane(times, rs)"
   ]
  },
  {
   "cell_type": "code",
   "execution_count": null,
   "metadata": {
    "collapsed": false
   },
   "outputs": [],
   "source": [
    "times, rs = run(.05, J_ee=1.3, J_ie=1.2, J_ei=0, J_ii=0, I_e=80, I_i=120, sigma=0)\n",
    "plot_timecourse(times, rs, y_lim=(6, 500))\n",
    "plot_timecourse(times, rs)\n",
    "# plot_plane(times, rs)"
   ]
  },
  {
   "cell_type": "markdown",
   "metadata": {},
   "source": [
    "# EE, EI, IE"
   ]
  },
  {
   "cell_type": "code",
   "execution_count": null,
   "metadata": {
    "collapsed": false,
    "scrolled": false
   },
   "outputs": [],
   "source": [
    "times, rs = run(.5, J_ee=1.3, J_ie=1.2, J_ei=1, J_ii=0, I_e=80, I_i=120, sigma=0)\n",
    "plot_timecourse(times, rs, y_lim=(6, 24))\n",
    "# plot_plane(times, rs)"
   ]
  },
  {
   "cell_type": "code",
   "execution_count": null,
   "metadata": {
    "collapsed": false
   },
   "outputs": [],
   "source": [
    "times, rs = run(5, J_ee=1.5, J_ie=1.4, J_ei=1.6, J_ii=0, I_e=300, I_i=350, sigma=.1)\n",
    "plot_timecourse(times, rs, y_lim=(6, 50))\n",
    "# plot_plane(times, rs)"
   ]
  },
  {
   "cell_type": "code",
   "execution_count": null,
   "metadata": {
    "collapsed": true
   },
   "outputs": [],
   "source": []
  },
  {
   "cell_type": "code",
   "execution_count": null,
   "metadata": {
    "collapsed": false
   },
   "outputs": [],
   "source": [
    "times, rs = run(2, I_e=120, I_i=150, sigma=0)\n",
    "plot_timecourse(times, rs)"
   ]
  },
  {
   "cell_type": "code",
   "execution_count": null,
   "metadata": {
    "collapsed": true
   },
   "outputs": [],
   "source": []
  }
 ],
 "metadata": {
  "kernelspec": {
   "display_name": "Python 2",
   "language": "python",
   "name": "python2"
  },
  "language_info": {
   "codemirror_mode": {
    "name": "ipython",
    "version": 2
   },
   "file_extension": ".py",
   "mimetype": "text/x-python",
   "name": "python",
   "nbconvert_exporter": "python",
   "pygments_lexer": "ipython2",
   "version": "2.7.13"
  }
 },
 "nbformat": 4,
 "nbformat_minor": 2
}
